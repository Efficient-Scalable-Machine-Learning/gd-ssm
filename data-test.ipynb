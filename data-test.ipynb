{
 "cells": [
  {
   "cell_type": "code",
   "execution_count": 18,
   "id": "eb396e5e-9b9f-4319-9653-b33c7ebcefc4",
   "metadata": {},
   "outputs": [],
   "source": [
    "from functools import partial\n",
    "import jax\n",
    "from jax import vmap\n",
    "import jax.numpy as jnp\n",
    "import numpy as np\n",
    "import matplotlib.pyplot as plt"
   ]
  },
  {
   "cell_type": "code",
   "execution_count": 2,
   "id": "fb96fb7f-bec2-49c9-9b25-53de461dbdef",
   "metadata": {},
   "outputs": [],
   "source": [
    "seed = 42\n",
    "rng = jax.random.PRNGKey(seed)\n",
    "i_size = 7\n",
    "c_size = 10\n",
    "input_range = 1\n",
    "size_distract = 0\n",
    "w_scale = 1"
   ]
  },
  {
   "cell_type": "code",
   "execution_count": 3,
   "id": "94be6542-1b5b-4ecc-a6fc-9ed657abf324",
   "metadata": {},
   "outputs": [],
   "source": [
    "rng, new_rng, new_rng2, new_rng3, new_rng4 = jax.random.split(rng, 5)\n",
    "w = jax.random.normal(rng, shape=[i_size])*w_scale\n",
    "\n",
    "x = jax.random.uniform(new_rng, shape=[c_size, i_size],\n",
    "                     minval=-input_range/2, maxval=input_range/2)\n",
    "y_data = jnp.squeeze(x@w)"
   ]
  },
  {
   "cell_type": "code",
   "execution_count": 4,
   "id": "9181ccff-57f8-4bea-8e05-b4eb167b7003",
   "metadata": {},
   "outputs": [
    {
     "data": {
      "text/plain": [
       "((10, 7), (10,))"
      ]
     },
     "execution_count": 4,
     "metadata": {},
     "output_type": "execute_result"
    }
   ],
   "source": [
    "x.shape, y_data.shape"
   ]
  },
  {
   "cell_type": "code",
   "execution_count": 5,
   "id": "d0dea58c-5b7d-4269-aec3-e6c94b42fb4c",
   "metadata": {},
   "outputs": [],
   "source": [
    "seq = jnp.concatenate([x, y_data[..., None]], -1)"
   ]
  },
  {
   "cell_type": "code",
   "execution_count": 6,
   "id": "0f40737c-645b-46cb-b960-25d309f96e0a",
   "metadata": {},
   "outputs": [],
   "source": [
    "x_querry = jax.random.uniform(new_rng2, shape=[1, i_size],\n",
    "                            minval=-input_range/2, maxval=input_range/2)\n",
    "y_target = x_querry@w\n",
    "y_target = y_target[..., None]"
   ]
  },
  {
   "cell_type": "code",
   "execution_count": 7,
   "id": "ec47a089-1c4a-4944-aab5-b48706922130",
   "metadata": {},
   "outputs": [
    {
     "data": {
      "text/plain": [
       "((1, 7), (1, 1))"
      ]
     },
     "execution_count": 7,
     "metadata": {},
     "output_type": "execute_result"
    }
   ],
   "source": [
    "x_querry.shape, y_target.shape"
   ]
  },
  {
   "cell_type": "code",
   "execution_count": 8,
   "id": "69f9ae98-9c23-4d4f-9943-50dc6b76a0fb",
   "metadata": {},
   "outputs": [],
   "source": [
    "target = jnp.concatenate([x_querry, y_target], -1)"
   ]
  },
  {
   "cell_type": "code",
   "execution_count": 9,
   "id": "efbe8624-3140-41ca-9fb1-4b2d72f3bc79",
   "metadata": {},
   "outputs": [
    {
     "data": {
      "text/plain": [
       "((10, 8), (1, 8))"
      ]
     },
     "execution_count": 9,
     "metadata": {},
     "output_type": "execute_result"
    }
   ],
   "source": [
    "seq.shape, target.shape"
   ]
  },
  {
   "cell_type": "code",
   "execution_count": 10,
   "id": "4abdb655-db6b-444b-a29a-d6a8be09fadd",
   "metadata": {},
   "outputs": [],
   "source": [
    "# choice = jax.random.choice(new_rng4, c_size, shape=[size_distract],\n",
    "#                          replace=False)\n",
    "# y_data = y_data.at[choice].set(jax.random.normal(new_rng3, \n",
    "#                                                shape=[size_distract]))\n",
    "\n",
    "x_querry_init = -1*x_querry.dot(jnp.ones_like(x_querry).T*0.0)\n",
    "zero = jnp.concatenate([x_querry, x_querry_init], -1)\n",
    "seq = jnp.concatenate([seq, zero], 0)"
   ]
  },
  {
   "cell_type": "code",
   "execution_count": 11,
   "id": "feef0886-d2f2-4ef9-a534-a381827cf54d",
   "metadata": {},
   "outputs": [
    {
     "data": {
      "text/plain": [
       "(11, 8)"
      ]
     },
     "execution_count": 11,
     "metadata": {},
     "output_type": "execute_result"
    }
   ],
   "source": [
    "seq.shape"
   ]
  },
  {
   "cell_type": "code",
   "execution_count": 12,
   "id": "88417130-24f0-49e6-ad2a-7b694296e3cf",
   "metadata": {},
   "outputs": [
    {
     "data": {
      "text/plain": [
       "(1, 8)"
      ]
     },
     "execution_count": 12,
     "metadata": {},
     "output_type": "execute_result"
    }
   ],
   "source": [
    "target.shape"
   ]
  },
  {
   "cell_type": "code",
   "execution_count": 13,
   "id": "277dd68a-2929-4066-83cf-41ec92f6facb",
   "metadata": {},
   "outputs": [
    {
     "data": {
      "text/plain": [
       "((7,), (10, 7), (10,))"
      ]
     },
     "execution_count": 13,
     "metadata": {},
     "output_type": "execute_result"
    }
   ],
   "source": [
    "w.shape, x.shape, y_data.shape"
   ]
  },
  {
   "cell_type": "code",
   "execution_count": 15,
   "id": "189b5a8d-9457-4631-a296-0e0dabd11dbf",
   "metadata": {},
   "outputs": [
    {
     "data": {
      "text/plain": [
       "((1, 7), (1, 1))"
      ]
     },
     "execution_count": 15,
     "metadata": {},
     "output_type": "execute_result"
    }
   ],
   "source": [
    "x_querry.shape, x_querry_init.shape"
   ]
  },
  {
   "cell_type": "code",
   "execution_count": 16,
   "id": "f1c2a390-89f7-4d82-a9aa-b614d8d55bd5",
   "metadata": {},
   "outputs": [
    {
     "data": {
      "text/plain": [
       "(1, 8)"
      ]
     },
     "execution_count": 16,
     "metadata": {},
     "output_type": "execute_result"
    }
   ],
   "source": [
    "zero.shape"
   ]
  },
  {
   "cell_type": "code",
   "execution_count": 20,
   "id": "1724dfbc-0f10-4e6b-b78c-5a7515c080a8",
   "metadata": {},
   "outputs": [
    {
     "data": {
      "text/plain": [
       "[<matplotlib.lines.Line2D at 0x7c016c1f1ac0>]"
      ]
     },
     "execution_count": 20,
     "metadata": {},
     "output_type": "execute_result"
    },
    {
     "data": {
      "image/png": "[encoded data removed]",
      "text/plain": [
       "<Figure size 640x480 with 1 Axes>"
      ]
     },
     "metadata": {},
     "output_type": "display_data"
    }
   ],
   "source": [
    "fig, ax = plt.subplots()\n",
    "ax.plot(x[:,-1], y_data)"
   ]
  },
  {
   "cell_type": "code",
   "execution_count": 21,
   "id": "b995f90f-abd8-4c51-ab8c-4cd375f1fce6",
   "metadata": {},
   "outputs": [
    {
     "data": {
      "text/plain": [
       "(Array([[ 0.38048196,  0.28961992, -0.22773707,  0.4433223 ,  0.05282438,\n",
       "          0.27519953, -0.38222003],\n",
       "        [ 0.28728163, -0.20863128, -0.47975814, -0.38236248,  0.3348118 ,\n",
       "          0.0270443 , -0.07074726],\n",
       "        [ 0.4622537 ,  0.49017644, -0.02608097, -0.14597726,  0.39065886,\n",
       "          0.29648352,  0.14573622],\n",
       "        [-0.4173447 , -0.14806509, -0.01140726, -0.41437697,  0.36718404,\n",
       "          0.15657306, -0.3273102 ],\n",
       "        [ 0.23100305, -0.20175207,  0.2179848 ,  0.04002476,  0.37828565,\n",
       "         -0.23442113, -0.28332734],\n",
       "        [ 0.14742553, -0.3638823 , -0.14286613,  0.24507141, -0.31591296,\n",
       "         -0.46690083, -0.490839  ],\n",
       "        [-0.43726504, -0.3248917 ,  0.47242737, -0.45384204,  0.03951049,\n",
       "         -0.0965333 ,  0.47337914],\n",
       "        [ 0.21890032, -0.22464716, -0.12466383, -0.07109475, -0.17940319,\n",
       "          0.01415694,  0.3961289 ],\n",
       "        [ 0.45505273, -0.49561226, -0.08005333, -0.15837622, -0.38871276,\n",
       "         -0.27039635, -0.38003767],\n",
       "        [-0.16884625, -0.27919447, -0.29606676,  0.20686114,  0.4810599 ,\n",
       "         -0.06694782,  0.4650147 ]], dtype=float32),\n",
       " Array([ 1.1191256 ,  0.6752257 ,  1.4904027 , -0.20294534,  0.08756943,\n",
       "        -0.46401036, -1.2301707 , -0.09596707, -0.09194586, -0.40651268],      dtype=float32))"
      ]
     },
     "execution_count": 21,
     "metadata": {},
     "output_type": "execute_result"
    }
   ],
   "source": [
    "x, y_data"
   ]
  },
  {
   "cell_type": "code",
   "execution_count": null,
   "id": "d87ee7c4-05fe-42e3-99c5-3e2ad42f8b92",
   "metadata": {},
   "outputs": [],
   "source": []
  }
 ],
 "metadata": {
  "kernelspec": {
   "display_name": "Python 3 (ipykernel)",
   "language": "python",
   "name": "python3"
  },
  "language_info": {
   "codemirror_mode": {
    "name": "ipython",
    "version": 3
   },
   "file_extension": ".py",
   "mimetype": "text/x-python",
   "name": "python",
   "nbconvert_exporter": "python",
   "pygments_lexer": "ipython3",
   "version": "3.12.3"
  }
 },
 "nbformat": 4,
 "nbformat_minor": 5
}
